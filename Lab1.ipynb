{
  "metadata": {
    "language_info": {
      "codemirror_mode": {
        "name": "python",
        "version": 3
      },
      "file_extension": ".py",
      "mimetype": "text/x-python",
      "name": "python",
      "nbconvert_exporter": "python",
      "pygments_lexer": "ipython3",
      "version": "3.8"
    },
    "kernelspec": {
      "name": "python",
      "display_name": "Pyolite",
      "language": "python"
    }
  },
  "nbformat_minor": 4,
  "nbformat": 4,
  "cells": [
    {
      "cell_type": "markdown",
      "source": "# **My Jupyter Notebook on IBM Watson Studio**",
      "metadata": {
        "tags": []
      }
    },
    {
      "cell_type": "markdown",
      "source": "**Sean**\n\\nCollege Student",
      "metadata": {}
    },
    {
      "cell_type": "markdown",
      "source": "*I am interested in data science because data is a valuable resource in todays society. Data is a tool that can provide information and the means of decision making for various companies. Companies such as Netflix utilizes data in such a way that they know what their consumers want to watch before the consumers themselves do. To me, data science is extremely fascinating*",
      "metadata": {}
    },
    {
      "cell_type": "markdown",
      "source": "### This code is to print my love for python, however the declared text seems kind of dull so the code uses the upper case and replace method to make the text more expressive.",
      "metadata": {}
    },
    {
      "cell_type": "code",
      "source": "message = 'python is fun, I love python...'\nnewmessage = message.replace('...','!')\nprint (newmessage.upper())",
      "metadata": {
        "trusted": true
      },
      "execution_count": 26,
      "outputs": [
        {
          "name": "stdout",
          "text": "PYTHON IS FUN, I LOVE PYTHON!\n",
          "output_type": "stream"
        }
      ]
    },
    {
      "cell_type": "markdown",
      "source": "## Table\n| This is  | for      | cell 6   |\n| -------- | -------- | -------- |\n| -------- | -------- | -------- |\n| -------- | -------- | -------- |\n| -------- | -------- | -------- |\n| -------- | -------- | -------- |\n\n## Bulleted list \n\n- This\n- Is\n- For\n- Cell\n- 6\n\n## Hyperlinks\n\nhttps://www.google.com/\n",
      "metadata": {}
    }
  ]
}